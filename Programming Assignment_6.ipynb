{
 "cells": [
  {
   "cell_type": "markdown",
   "id": "84a41a9f",
   "metadata": {},
   "source": [
    "# Programming Basic Assignment 6"
   ]
  },
  {
   "cell_type": "markdown",
   "id": "a4b40558",
   "metadata": {},
   "source": [
    "### 1. Write a Python Program to Display Fibonacci Sequence Using Recursion?"
   ]
  },
  {
   "cell_type": "code",
   "execution_count": null,
   "id": "bce462a9",
   "metadata": {
    "vscode": {
     "languageId": "plaintext"
    }
   },
   "outputs": [],
   "source": [
    "def fibonacci(n);\n",
    "if (n <= 1):\n",
    "return n\n",
    "else\n",
    "return (fibonacci(n-1) + fibonacci(n-2))\n",
    "n = int(input(\"enter the number of term\"))\n",
    "print (\"fibonacci sequnce\":)\n",
    "for k in range(n):\n",
    "print(\"fibonacci(k))\n",
    "\n"
   ]
  },
  {
   "cell_type": "markdown",
   "id": "d7a57f60",
   "metadata": {},
   "source": [
    "### 2. Write a Python Program to Find Factorial of Number Using Recursion?"
   ]
  },
  {
   "cell_type": "code",
   "execution_count": null,
   "id": "ebfcc87e",
   "metadata": {
    "vscode": {
     "languageId": "plaintext"
    }
   },
   "outputs": [],
   "source": [
    "def factorial(n)\n",
    "if (n==1 or n==0):\n",
    "\n",
    "return 1\n",
    "\n",
    "else\n",
    "\n",
    "return(n * factorial(n-1))\n",
    "\n",
    "num = 9;\n",
    "\n",
    "print(\"number : \",num)\n",
    "print(\"Factorial : \",factorial(num))\n"
   ]
  },
  {
   "cell_type": "markdown",
   "id": "0357b86f",
   "metadata": {},
   "source": [
    "### 3. Write a Python Program to calculate your Body Mass Index?"
   ]
  },
  {
   "cell_type": "code",
   "execution_count": null,
   "id": "ee3a7adf",
   "metadata": {
    "vscode": {
     "languageId": "plaintext"
    }
   },
   "outputs": [],
   "source": [
    "def BMI(height, weight):\n",
    "bmi = weight/(height**2)\n",
    "return bmi\n",
    "\n",
    "height = 162.56\n",
    "weight = 48\n",
    "bmi = bmi(height, weight):\n",
    "print(\"the bmi is\" format(bmi), \"so\", end=' ')\n",
    "\n",
    "if (bmi < 18):\n",
    "print (\"underweight\")\n",
    "\n",
    "elif (bmi >= 18 and bmi < 24):\n",
    "print (\"healthy\")\n",
    "\n",
    "elif (bmi >= 24 and bmi < 30):\n",
    "print (\"overweight\")\n",
    "\n",
    "elif (bmi >= 30):\n",
    "print (\"Suffering from Obesity\")\n"
   ]
  },
  {
   "cell_type": "markdown",
   "id": "96d344a4",
   "metadata": {},
   "source": [
    "### 4. Write a Python Program to calculate the natural logarithm of any number?"
   ]
  },
  {
   "cell_type": "code",
   "execution_count": null,
   "id": "e894f6f5",
   "metadata": {
    "vscode": {
     "languageId": "plaintext"
    }
   },
   "outputs": [],
   "source": [
    "import math\n",
    "print(\"natural logarithm of 15 is : \", end=\"\")\n",
    "print(math.log(15))\n",
    "\n",
    "print(\"logarithm base 5 of 15 is : \", end=\"\")\n",
    "print(math.log(15,5))"
   ]
  },
  {
   "cell_type": "markdown",
   "id": "11c0d92c",
   "metadata": {},
   "source": [
    "\n",
    "### 5. Write a Python Program for cube sum of first n natural numbers?\n"
   ]
  },
  {
   "cell_type": "code",
   "execution_count": null,
   "id": "42ada651",
   "metadata": {
    "vscode": {
     "languageId": "plaintext"
    }
   },
   "outputs": [],
   "source": [
    "def sumOfSeries\n",
    "sum = 0\n",
    "for i in range(1, n+1):\n",
    "sum +=pow(i,3)\n",
    "return sum\n",
    "\n",
    "n = 7\n",
    "\n",
    "print(sumOfSeries(n))\n"
   ]
  }
 ],
 "metadata": {
  "kernelspec": {
   "display_name": "Python 3 (ipykernel)",
   "language": "python",
   "name": "python3"
  },
  "language_info": {
   "codemirror_mode": {
    "name": "ipython",
    "version": 3
   },
   "file_extension": ".py",
   "mimetype": "text/x-python",
   "name": "python",
   "nbconvert_exporter": "python",
   "pygments_lexer": "ipython3",
   "version": "3.9.12"
  }
 },
 "nbformat": 4,
 "nbformat_minor": 5
}
